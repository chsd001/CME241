{
 "cells": [
  {
   "cell_type": "code",
   "execution_count": 1,
   "metadata": {},
   "outputs": [],
   "source": [
    "from lib.util import *\n",
    "from lib.mdp import *\n",
    "from lib.policy import *"
   ]
  },
  {
   "cell_type": "markdown",
   "metadata": {},
   "source": [
    "# Markov Decision Processes\n",
    "\n",
    "A set of states $S$, a state transition probability matrix $P$, a reward function $R$ s.t. $R(s) = \\mathbb{E}[R_{n+1} \\mid S_n = s]$, a discount factor $\\gamma \\in [0, 1]$, and a finite set of actions $A$. MDPs are similar to MRPs, but with actions.\n",
    "\n",
    "A policy $\\pi$ is a probability distribution of the actions given a state: $\\pi(a\\mid s) = \\mathbb{P}[A_t = a \\mid S_t = s]$\n",
    "\n",
    "A value function $v_\\pi$ for a given policy $\\pi$ is the expected return from a state $s$ that is obtained by following the policy $\\pi$: $v_\\pi(s) = \\mathbb{E}_\\pi(G_t \\mid S_t = s)$"
   ]
  },
  {
   "cell_type": "markdown",
   "metadata": {},
   "source": [
    "Bellman Expectation Equations: \n",
    "$$v_\\pi(s) = \\sum_{a\\in A} \\pi(a\\mid s) q_\\pi(s,a) $$\n",
    "$$q_\\pi(s,a) = R(s, a) + \\gamma \\sum_{s' \\in S} P(s, s', a) v_\\pi(s') $$\n",
    "$$v_\\pi(s) = \\sum_{a\\in A} \\pi(a\\mid s) [R(s, a) + \\gamma \\sum_{s' \\in S} P(s, s', a) v_\\pi(s')] $$\n",
    "$$q_\\pi(s,a) = R(s, a) + \\gamma \\sum_{s' \\in S} P(s, s', a) [\\sum_{a'\\in A} \\pi(a'\\mid s') q_\\pi(s',a')] $$\n",
    "\n",
    "Matrix Form of the Bellman Expectation Equation:\n",
    "$$v_\\pi = R^\\pi + \\gamma R^\\pi v_\\pi $$\n",
    "\n",
    "Bellman Optimality Equations: \n",
    "$$v_*(s) = \\max_a{q_*(s,a)} $$\n",
    "$$q_*(s,a) = R(s, a)  + \\gamma \\sum_{s' \\in S} P(s, s', a) v_*(s') $$\n",
    "$$v_*(s) = \\max_a [R(s, a)  + \\gamma \\sum_{s' \\in S} P(s, s', a) v_*(s')] $$\n",
    "$$q_*(s,a) = R(s, a)  + \\gamma \\sum_{s' \\in S} P(s, s', a) \\max_{a'}{q_*(s',a')} $$"
   ]
  },
  {
   "cell_type": "code",
   "execution_count": 2,
   "metadata": {},
   "outputs": [],
   "source": [
    "n = 7\n",
    "gamma = 0.8"
   ]
  },
  {
   "cell_type": "code",
   "execution_count": 3,
   "metadata": {},
   "outputs": [
    {
     "name": "stdout",
     "output_type": "stream",
     "text": [
      "defaultdict(<class 'float'>, {0: 2.647308912662474, 1: 1.8782294989002593, 2: 2.079261911183475, 3: 2.5849648134043486, 4: 2.671004722344322, 5: 2.0978024808783515, 6: 2.5936520291608796})\n"
     ]
    }
   ],
   "source": [
    "P = generate_stochastic_matrix(n)\n",
    "R = generate_reward_vector(n)\n",
    "mrp = MRP(P, R, gamma)\n",
    "mdp = MDP(gamma, [mrp]*n)\n",
    "Q = generate_stochastic_matrix(n)\n",
    "policy = Policy(Q)\n",
    "\n",
    "print(mdp.policy_evaluation(policy))"
   ]
  },
  {
   "cell_type": "code",
   "execution_count": 4,
   "metadata": {
    "scrolled": true
   },
   "outputs": [
    {
     "name": "stdout",
     "output_type": "stream",
     "text": [
      "[[1. 0. 0. 0. 0. 0. 0.]\n",
      " [1. 0. 0. 0. 0. 0. 0.]\n",
      " [1. 0. 0. 0. 0. 0. 0.]\n",
      " [1. 0. 0. 0. 0. 0. 0.]\n",
      " [1. 0. 0. 0. 0. 0. 0.]\n",
      " [1. 0. 0. 0. 0. 0. 0.]\n",
      " [1. 0. 0. 0. 0. 0. 0.]] defaultdict(<class 'float'>, {0: 1.2512319020532376, 1: 0.622665096427804, 2: 0.7973113677967644, 3: 1.396782264669143, 4: 1.5580610022340229, 5: 1.040508183309656, 6: 1.5943621080375014})\n",
      "(<lib.policy.DeterministicPolicy object at 0x7f2a680ed278>, defaultdict(<class 'float'>, {0: 1.2512319020532376, 1: 0.622665096427804, 2: 0.7973113677967644, 3: 1.396782264669143, 4: 1.5580610022340229, 5: 1.040508183309656, 6: 1.5943621080375014}))\n"
     ]
    }
   ],
   "source": [
    "print(mdp.policy_iteration())"
   ]
  },
  {
   "cell_type": "code",
   "execution_count": 5,
   "metadata": {},
   "outputs": [
    {
     "name": "stdout",
     "output_type": "stream",
     "text": [
      "[2.30089561 2.12821118 2.26553762 2.24268159 2.23553333 2.18966034\n",
      " 2.2508692 ]\n"
     ]
    }
   ],
   "source": [
    "print(mdp.value_iteration())"
   ]
  }
 ],
 "metadata": {
  "kernelspec": {
   "display_name": "Python 3",
   "language": "python",
   "name": "python3"
  },
  "language_info": {
   "codemirror_mode": {
    "name": "ipython",
    "version": 3
   },
   "file_extension": ".py",
   "mimetype": "text/x-python",
   "name": "python",
   "nbconvert_exporter": "python",
   "pygments_lexer": "ipython3",
   "version": "3.6.7"
  }
 },
 "nbformat": 4,
 "nbformat_minor": 2
}
