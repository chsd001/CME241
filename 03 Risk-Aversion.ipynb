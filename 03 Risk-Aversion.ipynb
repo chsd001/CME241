{
 "cells": [
  {
   "cell_type": "markdown",
   "metadata": {},
   "source": [
    "# Utility"
   ]
  },
  {
   "cell_type": "markdown",
   "metadata": {},
   "source": [
    "$x_{CE} = U^{−1}(\\mathbb{E}[U(x)])$\n",
    "\n",
    "Absolute Risk Premium $\\pi_A = \\mathbb{E}[x] − x_{CE} \\approx -\\frac{1}{2} \\frac{U^{''}(\\bar{x})}{U^{'}(\\bar{x})} \\sigma_{x}^2 = \\frac{1}{2}A(\\bar{x})\\sigma_{x}^2$\n",
    "\n",
    "Relative Risk Premium $\\pi_R = \\frac{\\pi_A}{\\mathbb{E}[x]} \\approx -\\frac{1}{2} \\frac{U^{''}(\\bar{x})\\bar{x}}{U^{'}(\\bar{x})} \\sigma_{x/\\bar{x}}^2= \\frac{1}{2}R(\\bar{x})\\sigma_{x/\\bar{x}}^2$"
   ]
  },
  {
   "cell_type": "markdown",
   "metadata": {},
   "source": [
    "# CARA"
   ]
  },
  {
   "cell_type": "markdown",
   "metadata": {},
   "source": [
    "Constant Absolute Risk-Aversion $A(x) = \\frac{-U^{''}(x)}{U^{'}(x)} = a$ \n",
    "\n",
    "$U(x) = \n",
    "\\begin{cases}\n",
    "x & \\text{if } a = 0 \\\\\n",
    "−e^{−ax} & \\text{else}\n",
    "\\end{cases}$ \n",
    "\n",
    "$\\mathbb{E}[U(x)] = \n",
    "\\begin{cases}\n",
    "\\mu & \\text{if } a = 0 \\\\\n",
    "e^{(-a \\mu + a^2 \\sigma^2 / 2)/a} & \\text{else}\n",
    "\\end{cases}$ \n",
    "\n",
    "\n",
    "$x_{CE} = µ −aσ^2/2$\n",
    "\n",
    "$\\pi_A = µ − x_{CE} =aσ^2/2$\n",
    "\n",
    "$\\pi_R = \\pi_A/\\mathbb{E}(x)$\n",
    "\n",
    "Optimal fraction of risky asset: $\\pi^∗ = \\frac{µ − r}{a σ^2}$"
   ]
  },
  {
   "cell_type": "markdown",
   "metadata": {},
   "source": [
    "# CRRA"
   ]
  },
  {
   "cell_type": "markdown",
   "metadata": {},
   "source": [
    "Constant Relative Risk Aversion $R(x) = \\frac{-U^{''}(x)x}{U^{'}(x)} = \\gamma$\n",
    "\n",
    "$U(x) = \n",
    "\\begin{cases}\n",
    "\\ln(x) & \\text{if } \\gamma = 1 \\\\\n",
    "\\frac{x^{1-\\gamma}}{1-\\gamma} & \\text{else}\n",
    "\\end{cases}$ \n",
    "\n",
    "$\\mathbb{E}[U(x)] = \n",
    "\\begin{cases}\n",
    "\\mu & \\text{if } \\gamma = 1 \\\\\n",
    "\\frac{e^{\\mu(1-\\gamma) + \\sigma^2 (1-\\gamma)^2 / 2}}{1 - \\gamma} & \\text{else}\n",
    "\\end{cases}$ \n",
    "\n",
    "$x_{CE} = e^{\\mu + \\sigma^2 (1-\\gamma)/2}$\n",
    "\n",
    "$\\pi_A = \\pi_R\\mathbb{E}(x)$\n",
    "\n",
    "$\\pi_R = 1 - e^{-\\sigma^2\\gamma / 2}$\n",
    "\n",
    "Optimal fraction of risky asset in CRRA model: $\\pi^∗ = \\frac{µ − r}{\\gamma σ^2}$"
   ]
  }
 ],
 "metadata": {
  "kernelspec": {
   "display_name": "Python 3",
   "language": "python",
   "name": "python3"
  },
  "language_info": {
   "codemirror_mode": {
    "name": "ipython",
    "version": 3
   },
   "file_extension": ".py",
   "mimetype": "text/x-python",
   "name": "python",
   "nbconvert_exporter": "python",
   "pygments_lexer": "ipython3",
   "version": "3.6.7"
  }
 },
 "nbformat": 4,
 "nbformat_minor": 2
}
