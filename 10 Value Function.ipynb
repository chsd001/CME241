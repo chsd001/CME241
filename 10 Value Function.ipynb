{
 "cells": [
  {
   "cell_type": "markdown",
   "metadata": {},
   "source": [
    "# Bellman Error-minimization"
   ]
  },
  {
   "cell_type": "markdown",
   "metadata": {},
   "source": [
    "\\begin{align*}\n",
    "w &= \\arg \\min_w d(v_W, R_\\pi + \\gamma P_\\pi v_W) \\\\\n",
    "&= \\arg \\min_w d(\\phi w, R_\\pi + \\gamma P_\\pi \\phi w)  \\\\\n",
    "&= \\arg \\min_w d(\\phi w-\\gamma P_\\pi \\phi w, R_\\pi)  \\\\\n",
    "&= \\arg \\min_w d((\\phi -\\gamma P_\\pi \\phi) w, R_\\pi)  \\\\\n",
    "\\end{align*}\n",
    "\n",
    "The solution of this weighted least-squares linear regression is \n",
    "\n",
    "$$w = \\left[ (\\phi -\\gamma P_\\pi \\phi)^T  D (\\phi -\\gamma P_\\pi \\phi)\\right]^{-1}(\\phi -\\gamma P_\\pi \\phi)^TDR_\\pi$$"
   ]
  },
  {
   "cell_type": "markdown",
   "metadata": {},
   "source": [
    "# Projected Bellman Error-minimization"
   ]
  },
  {
   "cell_type": "markdown",
   "metadata": {},
   "source": [
    "We have $$\\Pi_\\phi = \\phi(\\phi^TD\\phi)^{-1}\\phi^TD$$ and $$B_\\pi v = R_\\pi + \\gamma P_\\pi v$$\n",
    "From $$\\phi(\\phi^TD\\phi)^{-1}\\phi^{T}D(R_\\pi + \\gamma P_\\pi \\phi w) = \\phi w$$ since $\\phi$ is full rank, we get $$\\phi^{T}D(R_\\pi + \\gamma P_\\pi \\phi w) = \\phi^TD\\phi w$$ i.e. $$\\phi^{T}D(\\phi - \\gamma P_\\pi \\phi)w = \\phi^TD R_\\pi $$\n",
    "Finally, we get $$w = \\left[\\phi^{T}D(\\phi - \\gamma P_\\pi \\phi) \\right]^{-1} \\phi^TD R_\\pi$$"
   ]
  }
 ],
 "metadata": {
  "kernelspec": {
   "display_name": "Python 3",
   "language": "python",
   "name": "python3"
  },
  "language_info": {
   "codemirror_mode": {
    "name": "ipython",
    "version": 3
   },
   "file_extension": ".py",
   "mimetype": "text/x-python",
   "name": "python",
   "nbconvert_exporter": "python",
   "pygments_lexer": "ipython3",
   "version": "3.6.7"
  }
 },
 "nbformat": 4,
 "nbformat_minor": 2
}
