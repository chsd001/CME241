{
 "cells": [
  {
   "cell_type": "code",
   "execution_count": 1,
   "metadata": {},
   "outputs": [],
   "source": [
    "from lib.util import *\n",
    "from lib.policy import *\n",
    "from lib.mdp import *\n",
    "from lib.mrp import *"
   ]
  },
  {
   "cell_type": "markdown",
   "metadata": {},
   "source": [
    "# Environment"
   ]
  },
  {
   "cell_type": "code",
   "execution_count": 2,
   "metadata": {},
   "outputs": [],
   "source": [
    "from lib.env import *"
   ]
  },
  {
   "cell_type": "markdown",
   "metadata": {},
   "source": [
    "# Tabular Monte Carlo"
   ]
  },
  {
   "cell_type": "code",
   "execution_count": 3,
   "metadata": {},
   "outputs": [],
   "source": [
    "from lib.monte_carlo import *"
   ]
  },
  {
   "cell_type": "markdown",
   "metadata": {},
   "source": [
    "$$V(S_t) \\leftarrow V(S_t) + \\alpha (G_t - V(S_t))$$"
   ]
  },
  {
   "cell_type": "markdown",
   "metadata": {},
   "source": [
    "# Tabular Temporal Difference"
   ]
  },
  {
   "cell_type": "code",
   "execution_count": 4,
   "metadata": {},
   "outputs": [],
   "source": [
    "from lib.temporal_difference import *"
   ]
  },
  {
   "cell_type": "markdown",
   "metadata": {},
   "source": [
    "- Update value V(St) toward estimated return $R_{t+1} + γV(S_{t+1})$:\n",
    "$$V(S_t) ← V(S_t) + α (R_{t+1} + γV(S_{t+1}) − V(S_t))$$\n",
    "- $R_{t+1} + γV(S_{t+1})$ is called the TD target\n",
    "- $δ_t = R_{t+1} + γV(S_{t+1}) − V(S_t)$ is called the TD error"
   ]
  },
  {
   "cell_type": "markdown",
   "metadata": {},
   "source": [
    "# Example"
   ]
  },
  {
   "cell_type": "markdown",
   "metadata": {},
   "source": [
    "###### MDP"
   ]
  },
  {
   "cell_type": "code",
   "execution_count": 7,
   "metadata": {},
   "outputs": [],
   "source": [
    "n = 7\n",
    "gamma = 0.8"
   ]
  },
  {
   "cell_type": "code",
   "execution_count": 8,
   "metadata": {},
   "outputs": [],
   "source": [
    "P = generate_stochastic_matrix(n)\n",
    "R = generate_reward_vector(n)\n",
    "mrp = MRP(P, R, gamma)\n",
    "mdp = MDP(gamma, [mrp]*n)\n",
    "Q = generate_stochastic_matrix(n)\n",
    "policy = Policy(Q)"
   ]
  },
  {
   "cell_type": "markdown",
   "metadata": {},
   "source": [
    "###### Environment"
   ]
  },
  {
   "cell_type": "code",
   "execution_count": 9,
   "metadata": {},
   "outputs": [
    {
     "name": "stdout",
     "output_type": "stream",
     "text": [
      "5\n",
      "(4, 0.8400953273403831, False, None)\n",
      "(5, 0.2910977751764344, False, None)\n"
     ]
    }
   ],
   "source": [
    "env = Env(mdp)\n",
    "print(env.reset())\n",
    "print(env.step(0, 1))\n",
    "print(env.step(2, 1))"
   ]
  },
  {
   "cell_type": "markdown",
   "metadata": {},
   "source": [
    "###### Algorithm"
   ]
  },
  {
   "cell_type": "code",
   "execution_count": 10,
   "metadata": {},
   "outputs": [],
   "source": [
    "env = Env(mdp)"
   ]
  },
  {
   "cell_type": "code",
   "execution_count": 11,
   "metadata": {},
   "outputs": [
    {
     "data": {
      "text/plain": [
       "defaultdict(float,\n",
       "            {4: 30.43642742984064,\n",
       "             3: 30.66328143825837,\n",
       "             0: 30.153235769665404,\n",
       "             2: 29.94048229845399,\n",
       "             1: 29.61606313921253,\n",
       "             6: 30.224857761304513,\n",
       "             5: 30.55238694969633})"
      ]
     },
     "execution_count": 11,
     "metadata": {},
     "output_type": "execute_result"
    }
   ],
   "source": [
    "monte_carlo(env, policy)"
   ]
  },
  {
   "cell_type": "code",
   "execution_count": 12,
   "metadata": {},
   "outputs": [
    {
     "data": {
      "text/plain": [
       "defaultdict(float,\n",
       "            {0: 5.256349268833475,\n",
       "             6: 4.911827447065534,\n",
       "             5: 4.977053041564628,\n",
       "             4: 4.785724497347818,\n",
       "             3: 4.452810077337183,\n",
       "             2: 4.906325733489601,\n",
       "             1: 5.290377301951326})"
      ]
     },
     "execution_count": 12,
     "metadata": {},
     "output_type": "execute_result"
    }
   ],
   "source": [
    "td_zero(env, policy)"
   ]
  },
  {
   "cell_type": "code",
   "execution_count": 13,
   "metadata": {},
   "outputs": [],
   "source": [
    "forward_td_lambda(env, policy)"
   ]
  },
  {
   "cell_type": "code",
   "execution_count": 14,
   "metadata": {},
   "outputs": [],
   "source": [
    "backward_td_lambda(env, policy)"
   ]
  },
  {
   "cell_type": "markdown",
   "metadata": {},
   "source": [
    "### Proof that fixed learning rate $\\alpha$ for MC is equivalent to an exponentially decaying average of episode returns"
   ]
  },
  {
   "cell_type": "markdown",
   "metadata": {},
   "source": [
    "\\begin{align*}\n",
    "\\mu_k &= \\mu_{k-1} + \\alpha(x_k - \\mu_{k-1}) \\\\\n",
    "&= \\alpha x_k + (1-\\alpha)\\mu_{k-1} \\\\\n",
    "&= \\alpha x_k + (1-\\alpha)(\\alpha x_{k-1} + (1-\\alpha)\\mu_{k-2}) \\\\\n",
    "&= \\alpha x_k + (1-\\alpha)\\alpha x_{k-1} + (1-\\alpha)^2\\mu_{k-2} \\\\\n",
    "&= \\alpha x_k + (1-\\alpha)\\alpha x_{k-1} + (1-\\alpha)^2(\\alpha x_{k-2} + (1-\\alpha)\\mu_{k-3}) \\\\\n",
    "&= \\alpha x_k + (1-\\alpha)\\alpha x_{k-1} + (1-\\alpha)^2\\alpha x_{k-2} + (1-\\alpha)^3\\mu_{k-3} \\\\\n",
    "&= \\dots \\\\\n",
    "&= (1-\\alpha)^kx_0 + \\alpha\\sum_{i=1}^k (1-\\alpha)^{k-i} x_i\n",
    "\\end{align*}"
   ]
  },
  {
   "cell_type": "markdown",
   "metadata": {},
   "source": [
    "### Proof that Offline Forward-View TD($\\lambda$) and Offline Backward View TD($\\lambda$) are equivalent"
   ]
  },
  {
   "cell_type": "markdown",
   "metadata": {},
   "source": [
    "$E_t(s) = \\gamma \\lambda E_{t-1}(s) + \\mathbb{1}(S_t = s) = (\\gamma \\lambda)^{t-k}\\mathbb{1}(t \\geq k)$\n",
    "\n",
    "Backward $TD(\\lambda)$ updates accumulate error online $\\sum_{t=1}^T \\alpha \\delta_t E_t(s) = \\alpha\\sum_{t=k}^T(\\gamma \\lambda)^{t-k}\\delta_t $\n",
    "\n",
    "Moreover,\n",
    "\\begin{align*}\n",
    "G_t^\\lambda - V(S_t) \n",
    "&= -V(S_t) + (1-\\lambda)\\lambda^0 (R_{t+1}+\\gamma V(S_{t+1})) + (1-\\lambda)\\lambda^1 (R_{t+1}+\\gamma R_{t+2} +\\gamma^2 V(S_{t+2})) + \\dots \\\\\n",
    "&= -V(S_t) + (\\gamma \\lambda)^0 (R_{t+1}+\\gamma V(S_{t+1}) - \\gamma\\lambda V(S_{t+1})) + (\\gamma \\lambda)^1 (R_{t+2}+\\gamma V(S_{t+2}) - \\gamma\\lambda V(S_{t+2})) + \\dots \\\\\n",
    "&= (\\gamma \\lambda)^0 (R_{t+1}+\\gamma V(S_{t+1}) - V(S_{t})) + (\\gamma \\lambda)^1 (R_{t+2}+\\gamma V(S_{t+3}) - V(S_{t+2})) + \\dots \\\\\n",
    "&= \\sum_{t=k}^T(\\gamma \\lambda)^{t-k}\\delta_t\n",
    "\\end{align*}\n",
    "\n",
    "Hence, we get  $\\sum_{t=1}^T \\alpha \\delta_t E_t(s) =  \\sum_{t=1}^T \\alpha (G_t^\\lambda - V(S_t))$"
   ]
  }
 ],
 "metadata": {
  "kernelspec": {
   "display_name": "Python 3",
   "language": "python",
   "name": "python3"
  },
  "language_info": {
   "codemirror_mode": {
    "name": "ipython",
    "version": 3
   },
   "file_extension": ".py",
   "mimetype": "text/x-python",
   "name": "python",
   "nbconvert_exporter": "python",
   "pygments_lexer": "ipython3",
   "version": "3.6.7"
  }
 },
 "nbformat": 4,
 "nbformat_minor": 2
}
