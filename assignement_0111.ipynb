{
 "cells": [
  {
   "cell_type": "markdown",
   "metadata": {},
   "source": [
    "A Markov Process is defined by:\n",
    "\n",
    "   - A set of states $\\mathcal S$ \n",
    "\n",
    "   - A transition probability $\\mathcal P_{ss'}$ which gives the probability of moving from state $\\mathcal s$ to $\\mathcal s'$\n",
    "\n",
    "The MP is well defined by $\\langle \\mathcal S, \\mathcal P \\rangle$ because of the Markov property:\n",
    "\n",
    "<center>\n",
    "<br>\n",
    "$\\mathcal P[S_{t+1}=\\mathcal{s} | S_1,...,S_{t}] = \\mathcal P[S_{t+1}=\\mathcal{s} | S_{t}]$\n",
    "</center>"
   ]
  },
  {
   "cell_type": "markdown",
   "metadata": {},
   "source": [
    "A Markov Reward Process is defined by:\n",
    "\n",
    "   - A Markov Process $\\langle \\mathcal S, \\mathcal P \\rangle$\n",
    "\n",
    "   - A discount factor $\\gamma$\n",
    "   \n",
    "   - A reward function $\\mathcal R(s) = \\mathbb E[R_{t+1}|S_{t}=\\mathcal s]$\n",
    "\n",
    "The value function of a MRP is defined as the expected future reward starting from $\\mathcal s$ discounted at rate $\\gamma$:\n",
    "\n",
    "<center>\n",
    "<br>\n",
    "$V(\\mathcal{s}) = \\mathbb E[\\sum_{k=0}^{\\infty} {\\gamma^k R_{t+k+1}} | S_t=\\mathcal s]$\n",
    "</center>"
   ]
  },
  {
   "cell_type": "code",
   "execution_count": 77,
   "metadata": {},
   "outputs": [],
   "source": [
    "import numpy as np"
   ]
  },
  {
   "cell_type": "code",
   "execution_count": 83,
   "metadata": {},
   "outputs": [],
   "source": [
    "\"\"\"\n",
    "Implementation of Markov Process\n",
    "\n",
    "Attributes:\n",
    "    transition(2d array): Transition matrix\n",
    "\n",
    "Functions:\n",
    "    computeStationnary(1d array): Stationnary distribution of MP\n",
    "\"\"\"\n",
    "\n",
    "\n",
    "class MP:\n",
    "    def __init__(self,transition):\n",
    "        self.transition = transition\n",
    "    def computeStationnary(self):\n",
    "        Ker = self.transition.transpose() - np.identity(self.transition.shape[0])\n",
    "        values, vectors = np.linalg.eig(Ker)\n",
    "        zeroIndex = np.argmin(abs(values))\n",
    "        zeroVect = vectors[:,zeroIndex]\n",
    "        return zeroVect/np.sum(zeroVect)\n",
    "\n",
    "\"\"\"\n",
    "Implementation of Markov Reward Process (Inherits from MP)\n",
    "\n",
    "Attributes:\n",
    "    transition(2d array): Transition matrix\n",
    "    gamma(float): Discount factor\n",
    "    reward(1d array): Expected next-step reward for each state\n",
    "\n",
    "\"\"\"\n",
    "    \n",
    "    \n",
    "class MRP_1(MP):\n",
    "    def __init__(self, transition, reward, gamma):\n",
    "        super().__init__(transition)\n",
    "        self.reward = reward\n",
    "        self.gamma = gamma\n",
    "\n",
    "\"\"\"\n",
    "Alternate Implementation of Markov Reward Process (Inherits from MP)\n",
    "\n",
    "Modified Attributes:\n",
    "    reward(2d array): Reward matrix for transition between each pair of states\n",
    "    \n",
    "Functions:\n",
    "    cast(MRP_1 object): Cast the object into the previous implementation of MRP by computing\n",
    "                        the expected reward using the transition matrix\n",
    "\n",
    "\"\"\"\n",
    "        \n",
    "class MRP_2(MP):\n",
    "    def __init__(self, transition, reward, gamma):\n",
    "        super().__init__(transition)\n",
    "        self.reward = reward\n",
    "        self.gamma = gamma\n",
    "    def cast(self):\n",
    "        reward = np.diag(np.dot(self.reward, np.transpose(self.transition)))\n",
    "        return MRP_1(self.transition, reward, self.gamma)\n",
    "        "
   ]
  },
  {
   "cell_type": "code",
   "execution_count": 97,
   "metadata": {},
   "outputs": [],
   "source": [
    "R = np.array([[1, 2, 3], [4, 5, 6], [7, 8, 9]])\n",
    "P = np.array([[0, 0, 1], [0.5, 0.5, 0], [0.3, 0.3, 0.4]])\n",
    "gamma = 0.9"
   ]
  },
  {
   "cell_type": "code",
   "execution_count": 98,
   "metadata": {},
   "outputs": [
    {
     "data": {
      "text/plain": [
       "array([3. , 4.5, 8.1])"
      ]
     },
     "execution_count": 98,
     "metadata": {},
     "output_type": "execute_result"
    }
   ],
   "source": [
    "m = MRP_2(P, R, gamma)\n",
    "m.cast().reward"
   ]
  },
  {
   "cell_type": "code",
   "execution_count": 99,
   "metadata": {},
   "outputs": [
    {
     "data": {
      "text/plain": [
       "array([0.27272727, 0.27272727, 0.45454545])"
      ]
     },
     "execution_count": 99,
     "metadata": {},
     "output_type": "execute_result"
    }
   ],
   "source": [
    "m.computeStationnary()"
   ]
  }
 ],
 "metadata": {
  "kernelspec": {
   "display_name": "Python 3",
   "language": "python",
   "name": "python3"
  },
  "language_info": {
   "codemirror_mode": {
    "name": "ipython",
    "version": 3
   },
   "file_extension": ".py",
   "mimetype": "text/x-python",
   "name": "python",
   "nbconvert_exporter": "python",
   "pygments_lexer": "ipython3",
   "version": "3.6.7"
  }
 },
 "nbformat": 4,
 "nbformat_minor": 2
}
