{
 "cells": [
  {
   "cell_type": "code",
   "execution_count": 6,
   "metadata": {},
   "outputs": [],
   "source": [
    "from lib.merton import *"
   ]
  },
  {
   "cell_type": "markdown",
   "metadata": {},
   "source": [
    "# Optimal Asset Allocation/Consumption (Merton's 1969 Portfolio Problem)"
   ]
  },
  {
   "cell_type": "markdown",
   "metadata": {},
   "source": [
    "###### Continuous-time Stochastic Control problem MDP formulation"
   ]
  },
  {
   "cell_type": "markdown",
   "metadata": {},
   "source": [
    "- State $(t, W_t, S_t)$, where $t$ is the current time, $W_t$ the current holdings, and $S_t$ the current prices\n",
    "- Action $[\\pi_t, c_t]$, where $\\pi_t$ is the fraction of wealth allocated to risky asset (negative for shorting) and $c_t \\geq 0$ is the wealth consumption\n",
    "- Discount factor $\\gamma = \\frac{-xU''(x)}{U'(x)}$, where $U(x) = \\frac{x^{1-\\gamma}}{1-\\gamma}$ with $0 < \\gamma < 1$\n",
    "- The Return is the accumulated discounted Reward, where the Reward per unit time is $U(c_t)$, i.e. utility of consumption less transaction costs\n",
    "- $P$ governed by risky asset movements\n",
    "\n",
    "\n",
    "The goal is to find the policy : $(t, W_t) \\rightarrow [\\pi_t, c_t]$ that maximizes the Expected Return \n",
    "$$\\mathbb{E}\\left[\\int_{t}^{T}\\frac{e^{-\\rho(s-t)}c_s^{1-\\gamma}}{1-\\gamma} \\operatorname{d}\\!s + \\frac{e^{-\\rho(T - t)}\\epsilon^{\\gamma}W_T^{1-\\gamma}}{1-\\gamma} \\mid W_t \\right]$$\n",
    "\n",
    "\n"
   ]
  }
 ],
 "metadata": {
  "kernelspec": {
   "display_name": "Python 3",
   "language": "python",
   "name": "python3"
  },
  "language_info": {
   "codemirror_mode": {
    "name": "ipython",
    "version": 3
   },
   "file_extension": ".py",
   "mimetype": "text/x-python",
   "name": "python",
   "nbconvert_exporter": "python",
   "pygments_lexer": "ipython3",
   "version": "3.6.7"
  }
 },
 "nbformat": 4,
 "nbformat_minor": 2
}
