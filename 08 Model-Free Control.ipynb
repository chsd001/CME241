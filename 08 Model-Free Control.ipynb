{
 "cells": [
  {
   "cell_type": "code",
   "execution_count": 1,
   "metadata": {},
   "outputs": [],
   "source": [
    "from lib.util import *\n",
    "from lib.policy import *\n",
    "from lib.mdp import *\n",
    "from lib.mrp import *\n",
    "from lib.env import *"
   ]
  },
  {
   "cell_type": "markdown",
   "metadata": {},
   "source": [
    "# $\\varepsilon$-Greedy Policy Improvement"
   ]
  },
  {
   "cell_type": "markdown",
   "metadata": {},
   "source": [
    "###### Theorem\n",
    "For any $\\varepsilon$-greedy policy $\\pi$, the $\\varepsilon$-greedy policy $\\pi'$ with respect to $q_\\pi$ is an improvement, $v_{\\pi'}(s) \\geq v_{\\pi}(s)$"
   ]
  },
  {
   "cell_type": "markdown",
   "metadata": {},
   "source": [
    "###### Proof\n",
    "\\begin{align*}\n",
    "v_{\\pi'}(s) &= \\sum_{a \\in A} \\pi'(a\\mid s)q_{\\pi}(s, a) \\\\\n",
    "&= \\frac{\\varepsilon}{m} \\sum_{a \\in A} q_{\\pi}(s, a) + (1-\\varepsilon)\\max_{a \\in A}q_{\\pi}(s, a) \\\\\n",
    "&\\geq  \\frac{\\varepsilon}{m}\\sum_{a \\in A} q_{\\pi}(s, a) + (1-\\varepsilon)\\mathbb{E}_{\\sim (\\pi - \\varepsilon/m)/(1-\\varepsilon)}[q_{\\pi}(s, a)] \\\\\n",
    "&= \\frac{\\varepsilon}{m}\\sum_{a \\in A} q_{\\pi}(s, a) + (1-\\varepsilon)\\sum_{a \\in A} \\frac{\\pi(a\\mid s)-\\varepsilon/m}{1-\\varepsilon}q_{\\pi}(s, a) \\\\\n",
    "&= \\sum_{a \\in A} \\pi(a\\mid s)q_{\\pi}(s, a) \\\\\n",
    "&= v_\\pi(s)\n",
    "\\end{align*}"
   ]
  },
  {
   "cell_type": "markdown",
   "metadata": {},
   "source": [
    "# GLIE (Greedy in the Limit with Infinite Exploration)"
   ]
  },
  {
   "cell_type": "markdown",
   "metadata": {},
   "source": [
    "All state-action pairs are explored infinitely many times,\n",
    "$$ lim_{k\\rightarrow \\infty} N_k (s, a) = \\infty $$\n",
    "The policy converges on a greedy policy,\n",
    "$$ lim_{k\\rightarrow \\infty} \\pi_k (a\\mid s) = \\mathbb{1}[a = \\text{argmax}_{a' \\in A} Q_k (s, a'))] $$"
   ]
  },
  {
   "cell_type": "markdown",
   "metadata": {},
   "source": [
    "# SARSA"
   ]
  },
  {
   "cell_type": "code",
   "execution_count": 2,
   "metadata": {},
   "outputs": [],
   "source": [
    "from lib.sarsa import *"
   ]
  },
  {
   "cell_type": "markdown",
   "metadata": {},
   "source": [
    "# Q-learning"
   ]
  },
  {
   "cell_type": "code",
   "execution_count": 3,
   "metadata": {},
   "outputs": [],
   "source": [
    "from lib.q_learning import *"
   ]
  },
  {
   "cell_type": "markdown",
   "metadata": {},
   "source": [
    "# Example"
   ]
  },
  {
   "cell_type": "code",
   "execution_count": 4,
   "metadata": {},
   "outputs": [],
   "source": [
    "n = 7\n",
    "n_episodes = 50\n",
    "gamma = 0.8"
   ]
  },
  {
   "cell_type": "code",
   "execution_count": 5,
   "metadata": {},
   "outputs": [],
   "source": [
    "P = generate_stochastic_matrix(n)\n",
    "R = generate_reward_vector(n)\n",
    "mrp = MRP(P, R, gamma)\n",
    "mdp = MDP(gamma, [mrp]*n)\n",
    "Q = generate_stochastic_matrix(n)\n",
    "policy = Policy(Q)"
   ]
  },
  {
   "cell_type": "code",
   "execution_count": 6,
   "metadata": {},
   "outputs": [],
   "source": [
    "env = Env(mdp)"
   ]
  },
  {
   "cell_type": "code",
   "execution_count": 7,
   "metadata": {},
   "outputs": [
    {
     "data": {
      "text/plain": [
       "defaultdict(float,\n",
       "            {(5, 2): 1.7441277267635202,\n",
       "             (6, 3): 1.8671615798147732,\n",
       "             (6, 4): 1.83150631822924,\n",
       "             (0, 6): 1.6424485197931444,\n",
       "             (0, 5): 1.7437418790800172,\n",
       "             (4, 0): 1.8716324947073513,\n",
       "             (4, 1): 1.8079877280527397,\n",
       "             (6, 5): 1.8812020523182533,\n",
       "             (6, 6): 1.7524346778677926,\n",
       "             (4, 3): 1.7706479629304468,\n",
       "             (4, 4): 1.8875995255150522,\n",
       "             (4, 2): 1.882396837753244,\n",
       "             (6, 2): 1.8818163573159465,\n",
       "             (0, 0): 1.7117672795755892,\n",
       "             (1, 3): 1.8070335338100272,\n",
       "             (1, 1): 1.7949096460288303,\n",
       "             (6, 1): 1.8141619056770917,\n",
       "             (2, 2): 1.8111123207287727,\n",
       "             (2, 4): 1.7524876112437713,\n",
       "             (0, 3): 1.709505380053316,\n",
       "             (0, 1): 1.7861660938639579,\n",
       "             (2, 6): 1.7953957870824078,\n",
       "             (5, 5): 1.7512300305230637,\n",
       "             (5, 4): 1.6628058741943172,\n",
       "             (2, 5): 1.768299408894211,\n",
       "             (5, 0): 1.6881171084626645,\n",
       "             (5, 3): 1.6547742440231563,\n",
       "             (2, 1): 1.7523861238640137,\n",
       "             (3, 2): 1.848550583065363,\n",
       "             (3, 0): 1.772015044052531,\n",
       "             (1, 6): 1.8189431832755714,\n",
       "             (5, 1): 1.7804601297344185,\n",
       "             (2, 0): 1.7868929439260977,\n",
       "             (3, 5): 1.8468863491181127,\n",
       "             (1, 4): 1.8151724442946644,\n",
       "             (2, 3): 1.854679684567154,\n",
       "             (0, 4): 1.6890292079637477,\n",
       "             (1, 5): 1.827752339944372,\n",
       "             (3, 4): 1.8213783920687974,\n",
       "             (4, 5): 1.7382361820568126,\n",
       "             (1, 0): 1.7644439654437738,\n",
       "             (5, 6): 1.7542704026753495,\n",
       "             (1, 2): 1.7827287667401088,\n",
       "             (3, 1): 1.8218214765696292,\n",
       "             (0, 2): 1.7568072988993848,\n",
       "             (3, 6): 1.7829097766633752,\n",
       "             (3, 3): 1.5590455386911524,\n",
       "             (4, 6): 1.8700911841950552,\n",
       "             (6, 0): 1.7979374263218062})"
      ]
     },
     "execution_count": 7,
     "metadata": {},
     "output_type": "execute_result"
    }
   ],
   "source": [
    "sarsa(env, n_episodes, policy, gamma)"
   ]
  },
  {
   "cell_type": "code",
   "execution_count": 8,
   "metadata": {
    "scrolled": true
   },
   "outputs": [
    {
     "data": {
      "text/plain": [
       "defaultdict(float,\n",
       "            {(0, 4): 2.12857123580569,\n",
       "             (5, 0): 2.0043651375315705,\n",
       "             (5, 1): 2.010649409483529,\n",
       "             (5, 2): 2.0355436869000605,\n",
       "             (5, 3): 1.9952125872775457,\n",
       "             (5, 4): 2.043338621584539,\n",
       "             (5, 5): 2.066236515306301,\n",
       "             (5, 6): 1.9549746473271739,\n",
       "             (0, 0): 2.021206747944144,\n",
       "             (0, 1): 2.076627374154728,\n",
       "             (0, 2): 2.0174233780020536,\n",
       "             (0, 3): 2.065551874637221,\n",
       "             (0, 5): 1.9987673662530567,\n",
       "             (0, 6): 2.0259938992832596,\n",
       "             (3, 0): 2.2813419883741117,\n",
       "             (3, 1): 2.1699066949377848,\n",
       "             (3, 2): 2.188374351547453,\n",
       "             (3, 3): 2.0809138949312866,\n",
       "             (3, 4): 2.1406393476968995,\n",
       "             (3, 5): 2.1605017722166555,\n",
       "             (3, 6): 2.1911327030872743,\n",
       "             (6, 0): 2.1442360487446654,\n",
       "             (6, 1): 2.119395557815245,\n",
       "             (6, 2): 2.202120728752106,\n",
       "             (6, 3): 2.150452201557765,\n",
       "             (6, 4): 2.219779987977421,\n",
       "             (6, 5): 2.150131649944234,\n",
       "             (6, 6): 2.110759839277759,\n",
       "             (1, 0): 2.0548280540124093,\n",
       "             (1, 1): 2.155755250718368,\n",
       "             (1, 2): 2.087422882494493,\n",
       "             (1, 3): 2.0844909617474463,\n",
       "             (1, 4): 2.070070628064368,\n",
       "             (1, 5): 2.093914141098488,\n",
       "             (1, 6): 2.0216077911190755,\n",
       "             (2, 0): 2.2123660606090625,\n",
       "             (2, 1): 2.084722068054797,\n",
       "             (2, 2): 2.1387404548042666,\n",
       "             (2, 3): 2.042029659280649,\n",
       "             (2, 4): 2.097176168740133,\n",
       "             (2, 5): 1.9759776009616234,\n",
       "             (2, 6): 2.097506071965159,\n",
       "             (4, 0): 2.0472669043869844,\n",
       "             (4, 1): 2.100556106819015,\n",
       "             (4, 2): 2.0577133972006,\n",
       "             (4, 3): 2.113879392234253,\n",
       "             (4, 4): 2.1630429399091007,\n",
       "             (4, 5): 2.1723620058482616,\n",
       "             (4, 6): 2.1231620244408065})"
      ]
     },
     "execution_count": 8,
     "metadata": {},
     "output_type": "execute_result"
    }
   ],
   "source": [
    "qLearning(env, n_episodes, policy, gamma)"
   ]
  }
 ],
 "metadata": {
  "kernelspec": {
   "display_name": "Python 3",
   "language": "python",
   "name": "python3"
  },
  "language_info": {
   "codemirror_mode": {
    "name": "ipython",
    "version": 3
   },
   "file_extension": ".py",
   "mimetype": "text/x-python",
   "name": "python",
   "nbconvert_exporter": "python",
   "pygments_lexer": "ipython3",
   "version": "3.6.7"
  }
 },
 "nbformat": 4,
 "nbformat_minor": 2
}
