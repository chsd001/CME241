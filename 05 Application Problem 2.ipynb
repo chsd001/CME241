{
 "cells": [
  {
   "cell_type": "code",
   "execution_count": 1,
   "metadata": {},
   "outputs": [],
   "source": [
    "from lib.util import *\n",
    "from lib.option_pricing import *"
   ]
  },
  {
   "cell_type": "markdown",
   "metadata": {},
   "source": [
    "# Optimal Exercise of American Options"
   ]
  },
  {
   "cell_type": "markdown",
   "metadata": {},
   "source": [
    "The Black-Scholes equation is:\n",
    "\n",
    "$$\\frac{\\partial f}{\\partial t} + r S_t \\frac{\\partial f}{\\partial S_t} + \\frac{1}{2}\\sigma^2 S_t^2 \\frac{\\partial ^2 f}{\\partial S_t^2} = r f(S_t, t)$$\n",
    "\n",
    "For Europen puts, the boundary conditions are $P(\\infty,t) = 0; \\, P(S_t, T) = \\max(0, K-S_T)$\n",
    "\n",
    "For Europen calls, the boundary conditions are $C(0,t) = 0; \\, C(S_t, T) = \\max(0, S_T-K); \\, C(S_t, t) \\xrightarrow[S_t \\rightarrow \\infty]{} S_t$\n",
    "\n",
    "Solving yields \n",
    "\\begin{align*}\n",
    "P(S_t, t) &= -S_t \\Phi(-d_1) + K e^{-r(T-t)}\\Phi(-d_2) \\\\\n",
    "C(S_t, t) &= S_t \\Phi(d_1) - K e^{-r(T-t)}\\Phi(d_2)\n",
    "\\end{align*}\n",
    "\n",
    "where \n",
    "\\begin{align*}\n",
    "d_1 &= \\frac{\\ln(S_t/K) + (r+\\sigma^2/2)(T-t)}{\\sigma\\sqrt{T-t}} \\\\\n",
    "d_2 &= \\frac{\\ln(S_t/K) + (r-\\sigma^2/2)(T-t)}{\\sigma\\sqrt{T-t}} \\\\ \n",
    "    &= d_1 - \\sigma\\sqrt{T-t}\n",
    "\\end{align*}\n",
    "and $\\Phi$ is the standard normal cdf."
   ]
  },
  {
   "cell_type": "code",
   "execution_count": 3,
   "metadata": {},
   "outputs": [],
   "source": [
    "args, num_steps = (25, 22, 0.15, 0.20, 0.3), 50\n",
    "bs = Black_Scholes(*args)\n",
    "bl = Binomial_lattice(*args, num_steps)"
   ]
  },
  {
   "cell_type": "markdown",
   "metadata": {},
   "source": [
    "###### European options"
   ]
  },
  {
   "cell_type": "code",
   "execution_count": 4,
   "metadata": {},
   "outputs": [
    {
     "name": "stdout",
     "output_type": "stream",
     "text": [
      "Black-Scholes    prices: 4.029502036985221 0.06144663731342126\n",
      "Binomial Lattice prices: 4.028755917516786 0.06070051784498998\n"
     ]
    }
   ],
   "source": [
    "print(\"Black-Scholes    prices:\", bs.eur_call_price(), bs.eur_put_price())\n",
    "print(\"Binomial Lattice prices:\", bl.eur_call_price(), bl.eur_put_price())"
   ]
  },
  {
   "cell_type": "code",
   "execution_count": 5,
   "metadata": {},
   "outputs": [
    {
     "name": "stdout",
     "output_type": "stream",
     "text": [
      "Black-Scholes and Binom Lattice call check: True\n",
      "Black-Scholes and Binom Lattice  put check: False\n"
     ]
    }
   ],
   "source": [
    "tol = 0.01\n",
    "print(\"Black-Scholes and Binom Lattice call check:\", np.isclose(bs.eur_call_price(), bl.eur_call_price(), tol))\n",
    "print(\"Black-Scholes and Binom Lattice  put check:\", np.isclose(bs.eur_put_price(), bl.eur_put_price(), tol))"
   ]
  },
  {
   "cell_type": "markdown",
   "metadata": {},
   "source": [
    "###### American options"
   ]
  },
  {
   "cell_type": "code",
   "execution_count": 6,
   "metadata": {},
   "outputs": [
    {
     "name": "stdout",
     "output_type": "stream",
     "text": [
      "Binomial Lattice prices: 4.028755917516786 0.06687153955312627\n"
     ]
    }
   ],
   "source": [
    "print(\"Binomial Lattice prices:\", bl.am_call_price(), bl.am_put_price())"
   ]
  },
  {
   "cell_type": "code",
   "execution_count": 7,
   "metadata": {},
   "outputs": [
    {
     "name": "stdout",
     "output_type": "stream",
     "text": [
      "Heuristically, no early exercise of call option: True\n",
      "Early exercise of put option:                    True\n"
     ]
    }
   ],
   "source": [
    "print(\"Heuristically, no early exercise of call option:\", bool(1 - bl.am_call_early_exercise()))\n",
    "print(\"Early exercise of put option:                   \", bl.am_put_early_exercise())"
   ]
  },
  {
   "cell_type": "markdown",
   "metadata": {},
   "source": [
    "###### Longstaff-Schwartz"
   ]
  },
  {
   "cell_type": "code",
   "execution_count": 9,
   "metadata": {},
   "outputs": [],
   "source": [
    "from lib.longstaff_schwartz import *"
   ]
  },
  {
   "cell_type": "markdown",
   "metadata": {},
   "source": [
    "###### Alternative to LS"
   ]
  },
  {
   "cell_type": "markdown",
   "metadata": {},
   "source": [
    "MDP formulation:\n",
    "\n",
    "- State is $[t, H_t]$, where $t$ is the current time and $H_t$ the history of underlyer prices\n",
    "- Action is to exercise or not to exercise, that is the question\n",
    "- Reward is 0 if action is not to exercise, and is payoff if action is to exercise\n",
    "- Discount factor $\\gamma$\n",
    "- $P$ governed by underlyer price movements"
   ]
  }
 ],
 "metadata": {
  "kernelspec": {
   "display_name": "Python 3",
   "language": "python",
   "name": "python3"
  },
  "language_info": {
   "codemirror_mode": {
    "name": "ipython",
    "version": 3
   },
   "file_extension": ".py",
   "mimetype": "text/x-python",
   "name": "python",
   "nbconvert_exporter": "python",
   "pygments_lexer": "ipython3",
   "version": "3.6.7"
  }
 },
 "nbformat": 4,
 "nbformat_minor": 2
}
