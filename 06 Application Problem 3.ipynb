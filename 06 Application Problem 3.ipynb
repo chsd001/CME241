{
 "cells": [
  {
   "cell_type": "markdown",
   "metadata": {},
   "source": [
    "# Optimal Trade Order Execution"
   ]
  },
  {
   "cell_type": "markdown",
   "metadata": {},
   "source": [
    "###### Optimal Trade Order Execution problem as an MDP"
   ]
  },
  {
   "cell_type": "markdown",
   "metadata": {},
   "source": [
    "- State is $[t, P_t, R_t]$, where $t$ is the time, $P_t$ the bid that is given by the complete order book, and $R_t$ the stock remaining to be sold \n",
    "- Action is $N_t$ the quantity of Stock to Sell at current time\n",
    "- Reward is Utility of Sales Proceeds (i.e., Variance-adjusted-Proceeds), where $U$ is identity, i.e. $\\sum_{t=1}^T \\gamma^t U(N_t Q_t) = \\sum_{t=1}^T N_t (P_t - \\beta N_t)$ with the $\\gamma$ and price impact defined below\n",
    "- Discount factor $\\gamma = 1$\n",
    "- Reward & State-transitions governed by a linear price impact: $P_{t+1} = P_t - \\alpha N_t + \\varepsilon_t$, where $\\alpha \\in \\mathbb{R}_+$ and $\\mathbb{E}[\\varepsilon_t \\mid P_t, N_t] = 0$. The temporary price impact is $\\beta N_t$ so $Q_t = P_t - \\beta N_t$, where $\\beta \\in \\mathbb{R}_+$ "
   ]
  },
  {
   "cell_type": "markdown",
   "metadata": {},
   "source": [
    "###### Solution"
   ]
  },
  {
   "cell_type": "markdown",
   "metadata": {},
   "source": [
    "$V_\\pi(t, P_t, R_t) = \\mathbb{E}_\\pi \\left[ \\sum_{i=t}^T N_i (P_i - \\beta N_i) \\mid (t, P_t, R_t) \\right]$\n",
    "\n",
    "$V_*(t, P_t, R_t) = \\max_{N_t} \\left[N_t (P_t - \\beta N_t)+ \\mathbb{E}[V_*(t+1, P_{t+1}, R_{t+1})]\\right]$\n",
    "\n",
    "Working backwards from $V_*(T, P_T, R_T) = R_T (P_T - \\beta R_T) = (R_{T-1}-N_{T-1}) (P_{T-1} - \\alpha N_{T-1} + \\varepsilon_{T-1}- \\beta (R_{T-1}-N_{T-1}))$, we get\n",
    "\n",
    "\\begin{align*}\n",
    "V_*(T-1, P_{T-1}, R_{T-1}) &= \\max_{N_{T-1}} \\left[N_{T-1} (P_{T-1} - \\beta N_{T-1})+ \\mathbb{E}[V_*(T, P_T, R_T)]\\right] \\\\\n",
    "&= \\max_{N_{T-1}} \\left[N_{T-1} (P_{T-1} - \\beta N_{T-1})+ (R_{T-1}-N_{T-1}) (P_{T-1} - \\alpha N_{T-1} - \\beta (R_{T-1}-N_{T-1})) \\right]\n",
    "\\end{align*}\n",
    "\n",
    "The first order condition yields $2N^*_{T-1}(\\alpha - 2\\beta) + R_{T-1}(2\\beta-\\alpha) = 0$ i.e. $N^*_{T-1} = R_{T-1}/2$\n",
    "\n",
    "We then get $V_*(T-1, P_{T-1}, R_{T-1}) = R_{T-1}P_{T-1} - \\frac{R^2_{T-1}(2\\beta + \\alpha)}{4}$\n",
    "\n",
    "Iterating this recursion yields $N^*_t = \\frac{R_t}{T-t+1}$ and $V_*(t, P_t, R_t) = R_tP_t - \\frac{R_t^2(2\\beta + (T-t)\\alpha)}{2(T-t+1)}$"
   ]
  }
 ],
 "metadata": {
  "kernelspec": {
   "display_name": "Python 3",
   "language": "python",
   "name": "python3"
  },
  "language_info": {
   "codemirror_mode": {
    "name": "ipython",
    "version": 3
   },
   "file_extension": ".py",
   "mimetype": "text/x-python",
   "name": "python",
   "nbconvert_exporter": "python",
   "pygments_lexer": "ipython3",
   "version": "3.6.7"
  }
 },
 "nbformat": 4,
 "nbformat_minor": 2
}
