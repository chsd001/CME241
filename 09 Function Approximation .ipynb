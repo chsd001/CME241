{
 "cells": [
  {
   "cell_type": "code",
   "execution_count": 1,
   "metadata": {},
   "outputs": [],
   "source": [
    "from lib.util import *\n",
    "from lib.policy import *\n",
    "from lib.mdp import *\n",
    "from lib.mrp import *\n",
    "from lib.env import *\n",
    "from sklearn.linear_model import LinearRegression"
   ]
  },
  {
   "cell_type": "code",
   "execution_count": 2,
   "metadata": {},
   "outputs": [],
   "source": [
    "n = 5\n",
    "gamma = 0.95"
   ]
  },
  {
   "cell_type": "code",
   "execution_count": 3,
   "metadata": {},
   "outputs": [],
   "source": [
    "P = generate_stochastic_matrix(n)\n",
    "R = generate_reward_vector(n)\n",
    "mrp = MRP(P, R, gamma)\n",
    "mdp = MDP(gamma, [mrp]*n)\n",
    "Q = generate_stochastic_matrix(n)\n",
    "policy = Policy(Q)"
   ]
  },
  {
   "cell_type": "code",
   "execution_count": 4,
   "metadata": {},
   "outputs": [],
   "source": [
    "env = Env(mdp)"
   ]
  },
  {
   "cell_type": "markdown",
   "metadata": {},
   "source": [
    "# Linear model"
   ]
  },
  {
   "cell_type": "code",
   "execution_count": 5,
   "metadata": {},
   "outputs": [],
   "source": [
    "from lib.linear_model import *"
   ]
  },
  {
   "cell_type": "code",
   "execution_count": 6,
   "metadata": {},
   "outputs": [
    {
     "name": "stdout",
     "output_type": "stream",
     "text": [
      "[ 1  9 81]\n",
      "[0.03 0.06 0.12]\n",
      "4.71\n"
     ]
    }
   ],
   "source": [
    "lm = LinearModel()\n",
    "state = 9\n",
    "print(lm.feature_extractor(state))\n",
    "lm.update(2, 3)\n",
    "print(lm.weights)\n",
    "print(lm.predict(6))"
   ]
  },
  {
   "cell_type": "markdown",
   "metadata": {},
   "source": [
    "# Monte-Carlo Prediction algorithm with Value Function approximation"
   ]
  },
  {
   "cell_type": "markdown",
   "metadata": {},
   "source": [
    "- Return $G_t$ is an unbiased, noisy sample of true value $v_\\pi(S_t)$\n",
    "- Can therefore apply supervised learning to “training data”:\n",
    "$$<S_1, G_1>, <S_2, G_2>, \\dots <S_T, G_T>$$\n",
    "- For example, using linear Monte-Carlo policy evaluation\n",
    "$$∆w = \\alpha(G_t − \\hat{v}(S_t, w))\\nabla_w \\hat{v}(S_t, w)= \\alpha(G_t − \\hat{v}(S_t, w))x(S_t)$$\n",
    "- Monte-Carlo evaluation converges to a local optimum\n",
    "- Even when using non-linear value function approximation"
   ]
  },
  {
   "cell_type": "code",
   "execution_count": 7,
   "metadata": {},
   "outputs": [],
   "source": [
    "def feature_extractor(state, n_features = 3):\n",
    "    return np.array([state**k for k in range(n_features)])"
   ]
  },
  {
   "cell_type": "markdown",
   "metadata": {},
   "source": [
    "Experimented with directly using supervised learning."
   ]
  },
  {
   "cell_type": "code",
   "execution_count": 8,
   "metadata": {},
   "outputs": [],
   "source": [
    "def monte_carlo(env, policy, n_episodes=5, gamma = 0.9):\n",
    "    \"\"\"\n",
    "    This is an every visit Monte Carlo\n",
    "    \"\"\"\n",
    "    state_counter = defaultdict(int)\n",
    "    states = []\n",
    "    Y = []\n",
    "    for episode in range(n_episodes):\n",
    "        memory = []\n",
    "        state = env.reset()\n",
    "        done = False\n",
    "        while not done:\n",
    "            action = policy.sample_action(state)\n",
    "            state, reward, done, _ = env.step(state, action)\n",
    "            memory.append((state, action, reward))\n",
    "        \n",
    "        for i in range(len(memory)):\n",
    "            state, _, reward = memory[i]\n",
    "            G = discounted_return(memory[i:], gamma)\n",
    "            states.append(state)\n",
    "            Y.append(G)\n",
    "    return states,np.array(Y)"
   ]
  },
  {
   "cell_type": "code",
   "execution_count": 9,
   "metadata": {},
   "outputs": [],
   "source": [
    "def get_X(states):\n",
    "    res = []\n",
    "    for s in states:\n",
    "        res.append(feature_extractor(s))\n",
    "    return np.array(res)"
   ]
  },
  {
   "cell_type": "code",
   "execution_count": 10,
   "metadata": {},
   "outputs": [
    {
     "data": {
      "text/plain": [
       "LinearRegression(copy_X=True, fit_intercept=True, n_jobs=1, normalize=False)"
      ]
     },
     "execution_count": 10,
     "metadata": {},
     "output_type": "execute_result"
    }
   ],
   "source": [
    "states, Y = monte_carlo(env, policy)\n",
    "X = get_X(states)\n",
    "model = LinearRegression()\n",
    "model.fit(X,Y)"
   ]
  },
  {
   "cell_type": "markdown",
   "metadata": {},
   "source": [
    "The model diverges, which is a usual issue when using linear model approximator with RL."
   ]
  },
  {
   "cell_type": "code",
   "execution_count": 11,
   "metadata": {},
   "outputs": [
    {
     "data": {
      "text/plain": [
       "array([20.25902607])"
      ]
     },
     "execution_count": 11,
     "metadata": {},
     "output_type": "execute_result"
    }
   ],
   "source": [
    "model.predict([[0, 1, 2]])"
   ]
  },
  {
   "cell_type": "markdown",
   "metadata": {},
   "source": [
    "We now use the previous template of linear models to perform step by step gradient descent updates."
   ]
  },
  {
   "cell_type": "code",
   "execution_count": 12,
   "metadata": {},
   "outputs": [],
   "source": [
    "def monte_carlo(env, policy, n_episodes=5, gamma = 0.9):\n",
    "    \"\"\"\n",
    "    This is an every visit Monte Carlo\n",
    "    \"\"\"\n",
    "    state_counter = defaultdict(int)\n",
    "    lm = LinearModel()\n",
    "    for episode in range(n_episodes):\n",
    "        memory = []\n",
    "        state = env.reset()\n",
    "        done = False\n",
    "        while not done:\n",
    "            action = policy.sample_action(state)\n",
    "            state, reward, done, _ = env.step(state, action)\n",
    "            memory.append((state, action, reward))\n",
    "        \n",
    "        for i in range(len(memory)):\n",
    "            state, _, reward = memory[i]\n",
    "            G = discounted_return(memory[i:], gamma)\n",
    "            lm.update(state, G)\n",
    "    return lm"
   ]
  },
  {
   "cell_type": "code",
   "execution_count": 13,
   "metadata": {},
   "outputs": [],
   "source": [
    "lm = monte_carlo(env, policy)"
   ]
  },
  {
   "cell_type": "code",
   "execution_count": 14,
   "metadata": {},
   "outputs": [
    {
     "data": {
      "text/plain": [
       "array([  7.46502395, -19.75451062,   0.5452306 ])"
      ]
     },
     "execution_count": 14,
     "metadata": {},
     "output_type": "execute_result"
    }
   ],
   "source": [
    "lm.weights"
   ]
  },
  {
   "cell_type": "markdown",
   "metadata": {},
   "source": [
    "# 1-step TD Prediction algorithm with Value Function approximation"
   ]
  },
  {
   "cell_type": "markdown",
   "metadata": {},
   "source": [
    "We use another target: $$R_{t+1} + \\gamma \\hat{v}(S_{t+1}, w)$$"
   ]
  },
  {
   "cell_type": "code",
   "execution_count": 15,
   "metadata": {},
   "outputs": [],
   "source": [
    "def td_zero(env, policy, n=10, gamma = 0.9, alpha = 0.9):\n",
    "    lm = LinearModel()\n",
    "    for _ in range(n):\n",
    "        state = env.reset()\n",
    "        done = False\n",
    "        while not done:\n",
    "            action = policy.sample_action(state)\n",
    "            next_state, reward, done, _ = env.step(state, action)\n",
    "            target = reward + gamma * lm.predict(next_state)\n",
    "            lm.update(state, target)\n",
    "            state = next_state\n",
    "    return lm"
   ]
  },
  {
   "cell_type": "markdown",
   "metadata": {},
   "source": [
    "# Eligibility-Traces-based TD(lambda) Prediction algorithm with Value Function approximation"
   ]
  },
  {
   "cell_type": "markdown",
   "metadata": {},
   "source": [
    "We use $G_t^{\\lambda}$ as a target here"
   ]
  },
  {
   "cell_type": "code",
   "execution_count": 16,
   "metadata": {},
   "outputs": [],
   "source": [
    "def forward_td_lambda(env, policy, n_episodes=10, lambd=0.9, gamma=0.9, alpha = 0.9):\n",
    "    def n_step_return(memory, n, gamma, end_val):\n",
    "        return sum([gamma**k * memory[k][1] for k in range(n)])+ gamma**n*end_val\n",
    "    lm = LinearModel()\n",
    "    for episode in range(n_episodes):\n",
    "        memory = []\n",
    "        states = set()\n",
    "        state = env.reset()\n",
    "        done = False\n",
    "        while not done:\n",
    "            action = policy.sample_action(state)\n",
    "            state, reward, done, _ = env.step(state, action)\n",
    "            states.add(state)\n",
    "            memory.append((state, action, reward))\n",
    "    \n",
    "        for i in range(len(memory)):\n",
    "            s, _, _ = memory[i]\n",
    "            gt_lambda = (1-lambd)*sum([lambd**(k-1) * n_step_return(memory[i:], k, gamma, state_value[memory[i+k][0]]) for k in range(len(memory)-i-1)])\n",
    "            lm.update(s, gt_lambda)   \n",
    "    return state_value"
   ]
  },
  {
   "cell_type": "markdown",
   "metadata": {},
   "source": [
    "# SARSA with Value Function approximation"
   ]
  },
  {
   "cell_type": "code",
   "execution_count": 17,
   "metadata": {},
   "outputs": [],
   "source": [
    "from lib.epsilon_greedy_policy import *"
   ]
  },
  {
   "cell_type": "code",
   "execution_count": 18,
   "metadata": {},
   "outputs": [],
   "source": [
    "def sarsa(env, n_episodes, alpha=0.1):\n",
    "    policy = EpsilonPolicy(action_number=env.mdp.action_number)\n",
    "    for episode in range(n_episodes):\n",
    "        state = env.reset()\n",
    "        done = False\n",
    "        while not done:\n",
    "            action = policy.sample_action(state)\n",
    "            next_state, reward, done, _ = env.step(state, action)\n",
    "            next_action = policy.sample_action(next_state)\n",
    "            target = reward + gamma*policy.approximator.predict(next_state, next_action) - policy.approximator.predict(state, action)\n",
    "            policy.update(state,target,action)\n",
    "            action, state = next_action, next_state\n",
    "    return policy"
   ]
  },
  {
   "cell_type": "code",
   "execution_count": null,
   "metadata": {},
   "outputs": [],
   "source": [
    "policy = sarsa(env, 5)"
   ]
  },
  {
   "cell_type": "code",
   "execution_count": 20,
   "metadata": {},
   "outputs": [
    {
     "data": {
      "text/plain": [
       "nan"
      ]
     },
     "execution_count": 20,
     "metadata": {},
     "output_type": "execute_result"
    }
   ],
   "source": [
    "policy.approximator.predict(2, 0)"
   ]
  },
  {
   "cell_type": "markdown",
   "metadata": {},
   "source": [
    "# Q-learning with Value Function approximation"
   ]
  },
  {
   "cell_type": "code",
   "execution_count": 21,
   "metadata": {},
   "outputs": [],
   "source": [
    "def qLearning(env, n_episodes, alpha=0.1):\n",
    "    policy = EpsilonPolicy(action_number=env.mdp.action_number)\n",
    "    for episode in range(n_episodes):\n",
    "        state = env.reset()\n",
    "        done = False\n",
    "        while not done:\n",
    "            action = policy.sample_action(state)\n",
    "            next_state, reward, done, _ = env.step(state, action)\n",
    "            next_action = policy.sample_action(next_state)\n",
    "            target = reward + gamma*max([policy.approximator.predict(next_state, a) for a in range(env.mdp.action_number)]) - policy.approximator.predict(state, action)\n",
    "            policy.update(state,target,action)\n",
    "            action, state = next_action, next_state\n",
    "    return policy"
   ]
  },
  {
   "cell_type": "code",
   "execution_count": null,
   "metadata": {},
   "outputs": [],
   "source": [
    "policy = qLearning(env, 100)"
   ]
  },
  {
   "cell_type": "code",
   "execution_count": 23,
   "metadata": {},
   "outputs": [
    {
     "data": {
      "text/plain": [
       "nan"
      ]
     },
     "execution_count": 23,
     "metadata": {},
     "output_type": "execute_result"
    }
   ],
   "source": [
    "policy.approximator.predict(2,0)"
   ]
  }
 ],
 "metadata": {
  "kernelspec": {
   "display_name": "Python 3",
   "language": "python",
   "name": "python3"
  },
  "language_info": {
   "codemirror_mode": {
    "name": "ipython",
    "version": 3
   },
   "file_extension": ".py",
   "mimetype": "text/x-python",
   "name": "python",
   "nbconvert_exporter": "python",
   "pygments_lexer": "ipython3",
   "version": "3.6.7"
  }
 },
 "nbformat": 4,
 "nbformat_minor": 2
}
